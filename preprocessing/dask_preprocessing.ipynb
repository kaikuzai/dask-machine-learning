{
 "cells": [
  {
   "cell_type": "code",
   "execution_count": null,
   "id": "4f7042f7",
   "metadata": {},
   "outputs": [],
   "source": [
    "import dask.dataframe as dd \n",
    "\n",
    "df = dd.read_csv(\"\")"
   ]
  }
 ],
 "metadata": {
  "kernelspec": {
   "display_name": ".venv",
   "language": "python",
   "name": "python3"
  },
  "language_info": {
   "name": "python",
   "version": "3.9.12"
  }
 },
 "nbformat": 4,
 "nbformat_minor": 5
}
