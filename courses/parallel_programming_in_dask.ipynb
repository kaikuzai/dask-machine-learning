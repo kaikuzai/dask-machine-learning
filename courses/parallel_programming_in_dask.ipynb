{
 "cells": [
  {
   "cell_type": "markdown",
   "metadata": {},
   "source": [
    "### Introduction to Dask \n",
    "\n",
    "Computers have mutliple cores in the CPU to optimise the code you should use multiple cores to execute tasks that are independent from each other.\n",
    "\n",
    "#### Multi-threading\n",
    "You could split these tasks into two, or three threads in parallel within a single Python process. This is called multi-threading. \n",
    "\n",
    "#### Parallel processing \n",
    "parellel processing is also taking multiple threads however the threads are running different instances of pythons scripts. So you have two processes. \n",
    "\n",
    "\n",
    "### Parallel programming with Dask\n",
    "Dask can be used to facilitate parallel programming with lazy evaluation. Variables are not computed to the point in the script when it's actually needed. Instead a task list is created and when the variable is needed, then it's computed. The multiple tasks are split over multiple proccesses/threads to compute faster.\n",
    "\n",
    "To implement you can use the dask delayed function\n",
    "\n",
    "```\n",
    "from dask import delayed\n",
    "def my_square_function(x):\n",
    "   return x ** 2 \n",
    "\n",
    "delayed_function = delayed(my_square_function) \n",
    "```\n",
    "\n",
    "The delayed function takes in another function and will return a delayed object, the original function has not been run yet. "
   ]
  },
  {
   "cell_type": "code",
   "execution_count": 9,
   "metadata": {},
   "outputs": [
    {
     "name": "stdout",
     "output_type": "stream",
     "text": [
      "4\n"
     ]
    }
   ],
   "source": [
    "from dask import delayed \n",
    "\n",
    "def my_square_function(x):\n",
    "    return x ** 2 \n",
    "\n",
    "# Here you store the steps for the function \n",
    "delayed_function = delayed(my_square_function)\n",
    "\n",
    "# Here you store the steps for the function with an impute \n",
    "delayed_result = delayed_function(2)\n",
    "\n",
    "# Here you compute the delayed function with the input that was given before \n",
    "print(delayed_result.compute())"
   ]
  },
  {
   "cell_type": "markdown",
   "metadata": {},
   "source": [
    "#### Delayed object \n",
    "\n",
    "On the delayed object you can also perform standard mathematical equisions and this will return another delayed object. You can call the result of that object by running the compute function again."
   ]
  },
  {
   "cell_type": "code",
   "execution_count": 13,
   "metadata": {},
   "outputs": [
    {
     "data": {
      "text/plain": [
       "100"
      ]
     },
     "execution_count": 13,
     "metadata": {},
     "output_type": "execute_result"
    }
   ],
   "source": [
    "# Creathing the delayed fucntion\n",
    "delayed_function_2 = delayed(my_square_function)\n",
    "\n",
    "# Giving the int value to delayed function and other mathematical operations \n",
    "delayed_result_2 = (4 + delayed_function_2(4)) * 5 \n",
    "\n",
    "# Compute the result \n",
    "delayed_result_2.compute()"
   ]
  },
  {
   "cell_type": "markdown",
   "metadata": {},
   "source": [
    "#### Parallel processing\n",
    "\n",
    "In the example below you'll see how a list of ints can be multithreaded by using a delayed function. In this instance the squaring of the different ints will happen on different processes which in turn will make it faster. It won't be running on a single thread anymor. default threads "
   ]
  },
  {
   "cell_type": "code",
   "execution_count": 16,
   "metadata": {},
   "outputs": [
    {
     "data": {
      "text/plain": [
       "128205148"
      ]
     },
     "execution_count": 16,
     "metadata": {},
     "output_type": "execute_result"
    }
   ],
   "source": [
    "x_list = [3, 6, 7, 12, 53, 234, 5212, 10049]\n",
    "\n",
    "sum_of_squares = 0\n",
    "\n",
    "for i in x_list:\n",
    "    sum_of_squares += delayed_function(i)\n",
    "\n",
    "result = sum_of_squares\n",
    "\n",
    "result # <== this is a delayed variable \n",
    "result.compute() #<== this returns the answer that we seek computed on mutliple threads "
   ]
  },
  {
   "cell_type": "markdown",
   "metadata": {},
   "source": [
    "#### Sharing computation \n",
    "\n",
    "Sometimes the intermediate result is not computed immediately but it is used twice. See the example below. This would be slower because it has to compute the same result twice which is inefficient. "
   ]
  },
  {
   "cell_type": "code",
   "execution_count": 17,
   "metadata": {},
   "outputs": [
    {
     "name": "stdout",
     "output_type": "stream",
     "text": [
      "delayed result x : 4\n",
      "delayed result y : 13\n"
     ]
    }
   ],
   "source": [
    "delayed_intermediate = delayed(my_square_function)(3)\n",
    "\n",
    "# Since the intermediate is used twice for different functions \n",
    "delayed_result_x = delayed_intermediate - 5\n",
    "delayed_result_y = delayed_intermediate + 4\n",
    "\n",
    "# The intermediate is calculated twice \n",
    "print('delayed result x :', delayed_result_x.compute())\n",
    "print('delayed result y :', delayed_result_y.compute())"
   ]
  },
  {
   "cell_type": "markdown",
   "metadata": {},
   "source": [
    "This can be mitigated by computing two of the intermediates in a single compute "
   ]
  },
  {
   "cell_type": "code",
   "execution_count": 23,
   "metadata": {},
   "outputs": [
    {
     "name": "stdout",
     "output_type": "stream",
     "text": [
      "delayed result x 1 : 4\n",
      "delayed result y 1: 13\n"
     ]
    }
   ],
   "source": [
    "import dask \n",
    "\n",
    "delayed_intermediate = delayed(my_square_function)(3)\n",
    "\n",
    "# Since the intermediate is used twice for different functions \n",
    "delayed_result_x = delayed_intermediate - 5\n",
    "delayed_result_y = delayed_intermediate + 4\n",
    "\n",
    "# Now you compute the results only ones, they use the same intermediate anyway so it doesn't matter\n",
    "delayed_result_x_1, delayed_result_y_1 = dask.compute(delayed_result_x, delayed_result_y)\n",
    "\n",
    "# Results are the same \n",
    "print('delayed result x 1 :', delayed_result_x_1)\n",
    "print('delayed result y 1:', delayed_result_y_1)"
   ]
  },
  {
   "cell_type": "code",
   "execution_count": 20,
   "metadata": {},
   "outputs": [
    {
     "name": "stdout",
     "output_type": "stream",
     "text": [
      "48\n"
     ]
    }
   ],
   "source": [
    "# Please mind how the arguments of the delayed function have to be given to dask \n",
    "from dask import delayed\n",
    "import numpy as np \n",
    "\n",
    "costs_week_1 = [2, 4, 5, 6, 7]\n",
    "costs_week_2 = [2, 4, 5, 6, 7]\n",
    "\n",
    "\n",
    "# Lazily calculate the sums of costs_week_1 and costs_week_2\n",
    "sum1 = delayed(np.sum)(costs_week_1)\n",
    "sum2 = delayed(np.sum)(costs_week_2)\n",
    "\n",
    "# Add the two delayed sums\n",
    "total = sum1 + sum2\n",
    "\n",
    "# Compute and print the final answer\n",
    "print(total.compute())"
   ]
  },
  {
   "cell_type": "markdown",
   "metadata": {},
   "source": [
    "### Task graphs and scheduling methods \n",
    "\n",
    "When we want to see what the order of operation is for a specific dask process we can use the visualize method. The visualisation that is produced is read from bottom to top and show which sources are being used and which transformations are being ran upon them. "
   ]
  },
  {
   "cell_type": "code",
   "execution_count": 22,
   "metadata": {},
   "outputs": [
    {
     "data": {
      "image/png": "[encoded data removed]",
      "text/plain": [
       "<IPython.core.display.Image object>"
      ]
     },
     "execution_count": 22,
     "metadata": {},
     "output_type": "execute_result"
    }
   ],
   "source": [
    "delayed_num1 = delayed(my_square_function)(3)\n",
    "delayed_num2 = delayed(my_square_function)(5)\n",
    "\n",
    "# Add the two delayed numbers together \n",
    "result = delayed_num1 + delayed_num2 \n",
    "\n",
    "# Visualise the order of operation \n",
    "result.visualize()"
   ]
  },
  {
   "cell_type": "markdown",
   "metadata": {},
   "source": [
    "When there are mutliple operations done on a intermediate that has the same input you have to give both the values to the visualize function to see how they're both being processed. If they're sepperate you cannot see how they're bing calculated together if that makes sense"
   ]
  },
  {
   "cell_type": "code",
   "execution_count": 33,
   "metadata": {},
   "outputs": [
    {
     "data": {
      "image/png": "[encoded data removed]",
      "text/plain": [
       "<IPython.core.display.Image object>"
      ]
     },
     "execution_count": 33,
     "metadata": {},
     "output_type": "execute_result"
    }
   ],
   "source": [
    "delayed_intermediate = delayed(my_square_function)(3)\n",
    "\n",
    "def addition_function(x):\n",
    "    return x + 5 \n",
    "\n",
    "extra_delayed_intermediate = delayed(addition_function)(5)\n",
    "\n",
    "# Since the intermediate is used twice for different functions \n",
    "delayed_result_x = delayed_intermediate - 5\n",
    "delayed_result_y = delayed_intermediate + 4\n",
    "\n",
    "\n",
    "final_result = delayed_result_x + delayed_result_y - extra_delayed_intermediate\n",
    "\n",
    "# Now you compute the results only ones, they use the same intermediate anyway so it doesn't matter\n",
    "# dask.visualize(final_result) #<== this also works because they're dependent \n",
    "dask.visualize( delayed_result_x, delayed_result_y)"
   ]
  },
  {
   "cell_type": "markdown",
   "metadata": {},
   "source": [
    "### Multi threading vs Parallel Processing \n",
    "\n",
    "#### Parrallel processing \n",
    "- The processes have their own RAM space \n",
    "- Uses multiple python instances \n",
    "- Take time to start up but slower than threads\n",
    "\n",
    "#### Multithreading\n",
    "- Threads use the same RAM space \n",
    "- Uses only one python instance \n",
    "- Take time to start up but faster than parallel processing \n",
    "\n",
    "\n",
    "#### Adding the sum of two lists \n",
    "\n",
    "So for example if you use Parallel processing which has their OWN RAM space. In the case where you're making an addition two new processes are started and the arrays need to be copied over. Which is extremely slow. Then after the calculation has been made, it needs to be copied back again to the main process. So an array is copied over three times in total. \n",
    "\n",
    "With multithreading the process still share a RAM space so it's much quicker nothing needs to be copied over. and the process is just ran on multiple threads. within the RAM space. \n"
   ]
  },
  {
   "cell_type": "markdown",
   "metadata": {},
   "source": [
    "### GIL lock \n",
    "\n",
    "Python unlike other programming languages has a GIL lock. This prevents other threads from reading the same python script at the same time, ones that a thread knows the commands the script can be passed on to the next. That means that if the steps in a certain script are short a lot of unnecesary time will be spent reading the scripts. With parallel processing where they have their own ram and running the script in their own environment this time will be way shorter because they have their own GIL. \n",
    "\n",
    "### When processes are better. \n",
    "\n",
    "Let's say you have a script which you want to execute three times. If you use multithreading then the multiple threads will block each other out. Only one thread can execute the script at the same time and since it's a singular script it's not like the other threads can execute a certain script. in this case parallel processes will be quicker because they can execute the script at the same time and will not be blocked out. It might take a while for the parallel processes to start but ones they do they can execute it way faster.\n",
    "\n",
    "### GIL lock free functions \n",
    "\n",
    "There are also functions which remove the GIL lock to make sure that the threads don't block each other. `pd.read_csv` is one of those functions. "
   ]
  },
  {
   "cell_type": "markdown",
   "metadata": {},
   "source": [
    "### Building delayed pipelines \n",
    "Dask is also a very usefull tool to build pipelines to process large amount of data. Once the dataframe becomes too large it will become impossible to load the entire dataset into memory at once. To still be able to use large dataframes it is loaded and processed into chunks, smaller representations of the dataset. This is slower in general but Dask can be used to speed up this process. "
   ]
  },
  {
   "cell_type": "markdown",
   "metadata": {},
   "source": [
    "#### Case: Finding max track length of large spotify dataset "
   ]
  },
  {
   "cell_type": "code",
   "execution_count": null,
   "metadata": {},
   "outputs": [],
   "source": [
    "import pandas as pd \n",
    "\n",
    "files = ['2020', '2021', '2022', '2023', '2024']\n",
    "\n",
    "maximums = []\n",
    "\n",
    "for file in files:\n",
    "    df = pd.read_csv(file)\n",
    "    max_length = df[\"track_duration\"].max()\n",
    "    maximums.append(max_length)\n",
    "\n",
    "longest_track = maximums.max() "
   ]
  },
  {
   "cell_type": "markdown",
   "metadata": {},
   "source": [
    "#### Converting into lazy loading \n",
    "To transfor this function and use multithreading or parallel processing we need to make adjustments to the df = pd.read_csv line to delay the actual loading of the dataframe. This is where we kind of start with making it lazy if that makes any sense. \n",
    "\n",
    "We also delay the final max function, there is nothing there yet so what would we be maxing out? \n",
    "\n",
    "The max_length line also becomes a delaid object. Since it is derrived from pd.read_csv which has been delayed it also becomes a delayed opbject. \"Using a method of delayed object returns a delayed object, the same goes for accessing properties of the object\"\n",
    "\n",
    "If a method or fucntion is called that belongs to an object which doesn't exist or is maybe wrong you will only receive the eroror after the object has been called through a compute function\n",
    "\n",
    "Now that we append max_length to the maximums list it becoems a list of delayed methods. maximums can be in turn given back to a delayed max function `delayed(max)(maximums)` in turn the list of maximums can be computed with `dask.compute(maximums)` remember it's a list of delayed objects. this returns a tuple of a with a list of results inside which can be accessed by referencing the 0th value [0]"
   ]
  },
  {
   "cell_type": "code",
   "execution_count": 34,
   "metadata": {},
   "outputs": [
    {
     "data": {
      "image/png": "[encoded data removed]",
      "text/plain": [
       "<IPython.core.display.Image object>"
      ]
     },
     "execution_count": 34,
     "metadata": {},
     "output_type": "execute_result"
    }
   ],
   "source": [
    "import pandas as pd \n",
    "import dask \n",
    "from dask import delayed\n",
    "\n",
    "files = ['2020', '2021', '2022', '2023', '2024']\n",
    "\n",
    "maximums = []\n",
    "\n",
    "for file in files:\n",
    "    df = delayed(pd.read_csv)(file)\n",
    "    max_length = df[\"track_duration\"].max()\n",
    "    maximums.append(max_length)\n",
    "\n",
    "longest_track = delayed(max)(maximums)\n",
    "\n",
    "dask.visualize(longest_track)"
   ]
  },
  {
   "cell_type": "markdown",
   "metadata": {},
   "source": [
    "#### An examples "
   ]
  },
  {
   "cell_type": "code",
   "execution_count": null,
   "metadata": {},
   "outputs": [],
   "source": [
    "danceabilities = []\n",
    "\n",
    "for file in filenames:\n",
    "\t# Lazily load in the data\n",
    "    df = delayed(pd.read_csv)(file)\n",
    "    # Calculate the average danceability in the file of songs\n",
    "    mean_danceability = df['danceability'].mean()\n",
    "    danceabilities.append(mean_danceability)\n",
    "\n",
    "# Compute all the mean danceabilities\n",
    "danceability_list = dask.compute(danceabilities)[0]\n",
    "\n",
    "# Plot the results\n",
    "plt.plot(years, danceability_list)\n",
    "plt.show()"
   ]
  },
  {
   "cell_type": "code",
   "execution_count": null,
   "metadata": {},
   "outputs": [],
   "source": [
    "filenames = [] #<== a song databse \n",
    "\n",
    "n_songs_in_c, n_songs = 0, 0 \n",
    "\n",
    "for file in filenames:\n",
    "    # Load in the data\n",
    "    df = delayed(pd.read_csv)(file)\n",
    "    \n",
    "    # Add to running totals\n",
    "    n_songs_in_c += (df['key'] == 'C').sum()\n",
    "    n_songs += df.shape[0]\n",
    "\n",
    "# Efficiently compute total_n_songs_in_c and total_n_songs\n",
    "total_n_songs_in_c, total_n_songs = dask.compute(n_songs_in_c, n_songs)\n",
    "\n",
    "fraction_c = total_n_songs_in_c / total_n_songs\n",
    "print(total_n_songs, fraction_c)"
   ]
  },
  {
   "cell_type": "markdown",
   "metadata": {},
   "source": [
    "### Dask Arrays \n",
    "\n",
    "The dask Library also carries more specialized parts for the multithreading and multiprocessing of applications. Like Dask Arrays these are a specialized form of arrays that divide a regular np array in even more chunks, because why the fuck not? \n",
    "\n",
    "It could be that a hugely structured np array which is 4000, 4000 (4000 rows and 4000 columns) should be split up into smaller arrays so it can be processed by our RAM a dask array does that. In a Dask array every array is a numpy array. Then when we want to perform an analysis over the full dataset dask loads it in piece by by piece. "
   ]
  },
  {
   "cell_type": "code",
   "execution_count": 58,
   "metadata": {},
   "outputs": [
    {
     "name": "stdout",
     "output_type": "stream",
     "text": [
      "(4000, 6000)\n",
      "(4000, 6000)\n",
      "Total time for numpy is  0.008280754089355469\n",
      "Total time for dask is  0.005714893341064453\n"
     ]
    }
   ],
   "source": [
    "import numpy as np \n",
    "import dask.array as da \n",
    "\n",
    "\n",
    "# Creating a numpy array of 4000 rows by 6000 columns \n",
    "npa = np.ones((4000, 6000))\n",
    "\n",
    "# Creating a dask array of a numpy array of 4000 rows and 6000 columns divided by chungs the with the size of 2000, 2000\n",
    "daa = da.ones((4000, 6000), chunks=(1000, 2000))\n",
    "\n",
    "print(npa.shape)\n",
    "print(daa.shape)\n",
    "\n",
    "import time \n",
    "start_time_np = time.time()\n",
    "sum_numpy = npa.sum()\n",
    "end_time_np = time.time()\n",
    "\n",
    "start_time_da = time.time()\n",
    "sumd_dask = daa.sum().compute()\n",
    "end_time_da = time.time()\n",
    "\n",
    "# Dask is almost 10 times faster ... \n",
    "print(f'Total time for numpy is ', end_time_np - start_time_np)\n",
    "print(f'Total time for dask is ', end_time_da - start_time_da)\n"
   ]
  },
  {
   "cell_type": "markdown",
   "metadata": {},
   "source": [
    "Dask arrays have all the same functions as numpy arrays. Functions like \n",
    "- max()\n",
    "- min()\n",
    "- sum()\n",
    "- mean()\n",
    "\n",
    "When these functions are run dask will return another lazy numpy array. And ones the compute method is called on the array then we will get a numpy array as a final value. \n",
    "\n",
    "#### Image loading \n",
    "\n",
    "You can also use dask arrays to load in images using the da.image module. Sometimes you want to run a function across an entire array but for each chunk specifically. To do this we use the image arrays .map_block() function. Here every chunk is taken specifcally instead of the function being ran over the whole dask array. After that you pass in a function.\n",
    "\n",
    "This will result in another lazy array. Which can in the end be executed with compute()"
   ]
  },
  {
   "cell_type": "code",
   "execution_count": null,
   "metadata": {},
   "outputs": [],
   "source": [
    "import dask.array as da \n",
    "import da.image \n",
    "\n",
    "# Define the function which you want applied\n",
    "def negative_colours(image):\n",
    "    a, b, c = image.strip()\n",
    "    return a+1, b+1, c+1 \n",
    "\n",
    "# Load all the images in a certain folder \n",
    "image_array = da.image.imread('somefile/*.png')\n",
    "\n",
    "# Apply the function to each block specifically \n",
    "negative_colours = image_array.map_blocks(negative_colours)\n"
   ]
  },
  {
   "cell_type": "markdown",
   "metadata": {},
   "source": [
    "#### Example "
   ]
  },
  {
   "cell_type": "code",
   "execution_count": null,
   "metadata": {},
   "outputs": [],
   "source": [
    "# Convert the color photos to grayscale\n",
    "grayscale_images = image_array.mean(axis=3)\n",
    "\n",
    "# Apply the edge detection function\n",
    "edge_images = grayscale_images.map_blocks(compute_edges)\n",
    "\n",
    "# Select the zeroth image and compute its values\n",
    "sample_image = edge_images[0].compute()\n",
    "\n",
    "# Show the result\n",
    "plt.imshow(sample_image, cmap='gray')\n",
    "plt.show()"
   ]
  },
  {
   "cell_type": "markdown",
   "metadata": {},
   "source": [
    "### Dask Dataframes \n",
    "\n",
    "Dask also has a specific module for working with tabular dataframes called dask.dataframe (imported as dd) \n",
    "\n",
    "It has almost all of the same functions as a pandas dataframe but will do so lazily so for example if a dataset has multiple partitions or is too big we can lazily load them in like this.\n",
    "\n",
    "A .head() can also be used to get al ook into a dataframe it will take a quick glance into the dataframe and based on that decide what the columns are and give a quick head. \n",
    "\n",
    "You can also partition the dataframe when you save it to disk again, making sure that you don't go over your available RAM size "
   ]
  },
  {
   "cell_type": "code",
   "execution_count": null,
   "metadata": {},
   "outputs": [],
   "source": [
    "import dask.dataframe as dd \n",
    "\n",
    "# Here we read all of the data sets in a certain folder and partition them by a specific size.\n",
    "# If we don't give the blocksize for the partition it will partition based on the n of files \n",
    "dask_dataframe = dd.read_csv(\n",
    "    'datasets/*.csv', \n",
    "    blocksize='10MB'\n",
    ")\n",
    "\n",
    "# finds the top 3 largest value based on a certain column\n",
    "dask_dataframe.nlargest(n=3, columns='col1')\n",
    "\n",
    "dask_dataframe.to_csv(\"outpub/part-*.csv\")\n"
   ]
  },
  {
   "cell_type": "markdown",
   "metadata": {},
   "source": [
    "#### HDF5 \n",
    "\n",
    "hdf5 is a popular method of storing multiple large tabular datasets within each hdf5 file there can be multiple datasets. The keys of the file can easily be accessed as if it was a python dictionary by running \n",
    "\n",
    "```\n",
    "import h5py\n",
    "\n",
    "# Open HDF5 file \n",
    "file = h5py.File('data.hdf5')\n",
    "```\n",
    "\n",
    "`file.keys()`\n",
    "\n",
    "This will result in the different datasets within the hdf5 file \n",
    "\n",
    "to select a dataset you can use the key and extract the dataset \n",
    "\n",
    "`dataset_a = file['/A']`\n",
    "\n",
    "after printing the dataset you can see it's shape and datatype the data within hasn't been loaded yet. You can access the data within the array by using dask again. Then you give the chunksize to determine how the dat will be split up without being computed yet.\n",
    "\n",
    "```\n",
    "import dask.array as da \n",
    "\n",
    "# Load in the data \n",
    "dask_a = da.from_array(dataset_a, chunks=(100, 20, 20))\n",
    "```\n",
    "\n",
    "The chunks should be smaller than the entirety of the array but small enough that multiple can be loaded on multiple threads or within multiple processes. \n"
   ]
  },
  {
   "cell_type": "code",
   "execution_count": null,
   "metadata": {},
   "outputs": [],
   "source": [
    "# WTF???!!!\n",
    "\n",
    "# Open the HDF5 dataset using h5py\n",
    "hdf5_file = h5py.File('data/era_eu.hdf5')\n",
    "\n",
    "# Load the file into a Dask array with a reasonable chunk size\n",
    "precip = da.from_array(hdf5_file['/precip'], chunks=(12, 15, 15))\n",
    "\n",
    "# Select only the months of January\n",
    "january_rainfalls = precip[0::12]\n",
    "\n",
    "# Calculate the mean rainfall in January for each location\n",
    "january_mean_rainfall = january_rainfalls.mean(axis=0)\n",
    "\n",
    "plt.imshow(january_mean_rainfall.compute())\n",
    "plt.show()"
   ]
  },
  {
   "cell_type": "markdown",
   "metadata": {},
   "source": [
    "### Zarr \n",
    "\n",
    "Like HDF5 is zarr is a file format which is hierarchal. It has been made with chunking in mind and is good for streaming data in combination with cloud computing. \n",
    "\n",
    "Unlike HDF5 you can open and look into the Zarr file using a file browser to see what exactly is within the Zarr file to see each chunk of each array. \n",
    "\n",
    "```\n",
    "import dask.array as ad \n",
    "\n",
    "a = da.from_zarr('dataset.zar', component='A')\n",
    "\n",
    "```\n",
    "\n",
    "You need to specify which part or component of the zarr file you want to load. Dask will automatically choose the same chunksize which are on disk (no fucking idea what the fuck that means but okay? apperantly they're saved within the metadata of the zarr file)\n",
    "\n",
    "\n"
   ]
  },
  {
   "cell_type": "markdown",
   "metadata": {},
   "source": [
    "### Xarray \n",
    "\n",
    "An Xarray dataset is a dataset like pandas but then three dimensional because why not just fuck your whole fucking life up fuck this. Anyways yes hmm interesting you can load in an Xarray by doing whatever the fuck. \n",
    "\n",
    "```\n",
    "import xarray as xr \n",
    "\n",
    "ds = xr.open_zarr(\"data/era_eu.zarr\")\n",
    "```\n"
   ]
  },
  {
   "cell_type": "code",
   "execution_count": 74,
   "metadata": {},
   "outputs": [
    {
     "name": "stdout",
     "output_type": "stream",
     "text": [
      "unrecognized engine zarr must be one of: ['store']\n"
     ]
    }
   ],
   "source": [
    "import xarray as xr \n",
    "import dask.array as da \n",
    "\n",
    "xrds = da.from_zarr(\"./data/era_eu.zarr\", component='lon')\n",
    "try:\n",
    "    ds = xr.open_zarr(\"./data/era_eu.zarr\")\n",
    "except Exception as e:\n",
    "    print(e)\n",
    "\n"
   ]
  },
  {
   "cell_type": "markdown",
   "metadata": {},
   "source": [
    "### Unstructured Data with Dask \n",
    "\n",
    "You can use make use of unstructured data in combination with dask using the dask bags.\n",
    "\n",
    "To create a dask bag, which is a lazy loaded list, you can use the from_sequence function. There you can give a datasource (lists/dicsts) and how many partitions it should be stored in. Then once you want the values out of the list, you can compute them or visualize how the computation will be executed.\n",
    "\n",
    "#### Dask take \n",
    "To extract values from the dask bag you can use the take function. it reutrns a tuple of items from the bag. if you want to see all of the elements you would use the compute method \n",
    "\n",
    "#### Dask count \n",
    "you can use the .count() method to see how many values are in the entire bag. Do note that the result needs to be computed before they can be displayed. \n",
    "\n",
    "#### Loading text \n",
    "Dask has a specific method for reading text in an unstructured datasource it uses the read_text function. You passs in the filenames which you want to read in this fashion `text_data_bag = db.read_text('data/*.txt')` this reads all the files that end with txt in the data folder. You can also use `filenames = glob.glob('data/*.txt')` and pass in filenames to `db_read_text(filenames)` it will result in the same. \n",
    "\n",
    "By default the partitions will be 1 per text file, so if you have three text files you will have three partitions.\n",
    "\n",
    "#### String operations \n",
    "Ones the text files have been loaded within the bags you can use string accessors to make alterations to the text within the bags. \n",
    "\n",
    "Example \n",
    "```\n",
    "print(text_data_bag.str.lower().take(1)) This will lower all the text found in the first index  \n",
    "\n",
    "print(text_data_bag.str.replace('good', 'great').take(1)) This will replace a text\n",
    "\n",
    "print(text_data_bag.str.count('great').take(3)) This will count the amount of times great appear in a text\n",
    "```\n"
   ]
  },
  {
   "cell_type": "code",
   "execution_count": 14,
   "metadata": {},
   "outputs": [
    {
     "data": {
      "text/plain": [
       "3"
      ]
     },
     "execution_count": 14,
     "metadata": {},
     "output_type": "execute_result"
    }
   ],
   "source": [
    "import dask.bag as db \n",
    "\n",
    "string_list = [\n",
    "    \"first element in the list which is to be loaded\",\n",
    "    \"second element in the list which is to be loaded\", \n",
    "    \"Third element is this to be loaded?\"\n",
    "]\n",
    "\n",
    "# Loads in the list \n",
    "bag_example = db.from_sequence(string_list, npartitions=5)\n",
    "\n",
    "# Take a specific element from the dask bag \n",
    "first_string = bag_example.take(1)\n",
    "\n",
    "bag_count = bag_example.count()\n",
    "bag_count.compute()\n"
   ]
  },
  {
   "cell_type": "markdown",
   "metadata": {},
   "source": [
    "### Dask bag operations \n",
    "You can apply functions to a bag by using the map function. Then all the files within the bag will be applied that specific function to. This returns a response on which a compute method should be run to extract the values from. \n",
    "\n",
    "#### JSON data \n",
    "You can use JSON files as well, json is primarily saved in python dictionaries which often er nested. They can be imported and transoformed into a list by using the json.loads function and reading the text with read_text. once it's a dictionary bag you can also use `filter` to apply functions to the bag. \n"
   ]
  },
  {
   "cell_type": "code",
   "execution_count": 49,
   "metadata": {},
   "outputs": [],
   "source": [
    "employment_dict = [\n",
    "    {\n",
    "        \"name\": \"Josh\",\n",
    "        \"employment\": [\n",
    "            {\n",
    "                \"role\": \"Manager\",\n",
    "                \"start_date\": \"01012002\",\n",
    "                \"end_date\": \"12312010\",\n",
    "                \"location\": \"New York\",\n",
    "                \"salary\": 85000,\n",
    "                \"department\": \"Sales\"\n",
    "            },\n",
    "            {\n",
    "                \"role\": \"Senior Manager\",\n",
    "                \"start_date\": \"01012011\",\n",
    "                \"end_date\": \"Present\",\n",
    "                \"location\": \"New York\",\n",
    "                \"salary\": 105000,\n",
    "                \"department\": \"Sales\"\n",
    "            }\n",
    "        ]\n",
    "    },\n",
    "    {\n",
    "        \"name\": \"Emily\",\n",
    "        \"employment\": [\n",
    "            {\n",
    "                \"role\": \"Software Engineer\",\n",
    "                \"start_date\": \"05012015\",\n",
    "                \"end_date\": \"08312018\",\n",
    "                \"location\": \"San Francisco\",\n",
    "                \"salary\": 95000,\n",
    "                \"department\": \"Engineering\"\n",
    "            },\n",
    "            {\n",
    "                \"role\": \"Lead Engineer\",\n",
    "                \"start_date\": \"09012018\",\n",
    "                \"end_date\": \"Present\",\n",
    "                \"location\": \"San Francisco\",\n",
    "                \"salary\": 130000,\n",
    "                \"department\": \"Engineering\"\n",
    "            }\n",
    "        ]\n",
    "    },\n",
    "    {\n",
    "        \"name\": \"Michael\",\n",
    "        \"employment\": [\n",
    "            {\n",
    "                \"role\": \"Analyst\",\n",
    "                \"start_date\": \"01012010\",\n",
    "                \"end_date\": \"03312014\",\n",
    "                \"location\": \"Chicago\",\n",
    "                \"salary\": 60000,\n",
    "                \"department\": \"Finance\"\n",
    "            },\n",
    "            {\n",
    "                \"role\": \"Senior Analyst\",\n",
    "                \"start_date\": \"04012014\",\n",
    "                \"end_date\": \"06302019\",\n",
    "                \"location\": \"Chicago\",\n",
    "                \"salary\": 75000,\n",
    "                \"department\": \"Finance\"\n",
    "            },\n",
    "            {\n",
    "                \"role\": \"Finance Manager\",\n",
    "                \"start_date\": \"07012019\",\n",
    "                \"end_date\": \"Present\",\n",
    "                \"location\": \"Chicago\",\n",
    "                \"salary\": 95000,\n",
    "                \"department\": \"Finance\"\n",
    "            }\n",
    "        ]\n",
    "    },\n",
    "    {\n",
    "        \"name\": \"Sophia\",\n",
    "        \"employment\": [\n",
    "            {\n",
    "                \"role\": \"HR Coordinator\",\n",
    "                \"start_date\": \"02012018\",\n",
    "                \"end_date\": \"06012020\",\n",
    "                \"location\": \"Los Angeles\",\n",
    "                \"salary\": 55000,\n",
    "                \"department\": \"Human Resources\"\n",
    "            },\n",
    "            {\n",
    "                \"role\": \"HR Manager\",\n",
    "                \"start_date\": \"07012020\",\n",
    "                \"end_date\": \"Present\",\n",
    "                \"location\": \"Los Angeles\",\n",
    "                \"salary\": 75000,\n",
    "                \"department\": \"Human Resources\"\n",
    "            }\n",
    "        ]\n",
    "    }\n",
    "]\n"
   ]
  },
  {
   "cell_type": "code",
   "execution_count": 47,
   "metadata": {},
   "outputs": [
    {
     "data": {
      "text/plain": [
       "[{'course': {'id': 101,\n",
       "   'title': 'Introduction to JSON',\n",
       "   'description': \"A beginner's course on JSON format and structure.\",\n",
       "   'instructor': {'name': 'Jane Doe', 'email': 'jane.doe@example.com'},\n",
       "   'modules': [{'module_id': 1,\n",
       "     'module_title': 'What is JSON?',\n",
       "     'topics': ['Overview of JSON', 'Syntax and Structure']},\n",
       "    {'module_id': 2,\n",
       "     'module_title': 'Working with JSON',\n",
       "     'topics': ['Parsing JSON', 'JSON in Web Development']}],\n",
       "   'students_enrolled': 50,\n",
       "   'active': True}}]"
      ]
     },
     "execution_count": 47,
     "metadata": {},
     "output_type": "execute_result"
    }
   ],
   "source": [
    "import json \n",
    "\n",
    "# Define a simple function\n",
    "def count_words(sentence: str):\n",
    "    word_list = sentence.split(' ')\n",
    "    return len(word_list)\n",
    "\n",
    "# Apply the map and compute to get the results \n",
    "bag_example.map(count_words).compute()\n",
    "\n",
    "# reading in a json file \n",
    "json_bag = db.read_text('./data/*.json')\n",
    "\n",
    "# when using json this will convert it from a json string to a python dictionary\n",
    "bag_dict = json_bag.map(json.loads)\n",
    "bag_dict.compute()\n",
    "\n",
    "# Define a filtering for dict \n",
    "def title_what_json(dict):\n",
    "    return dict is not None \n",
    "\n",
    "# Applies the filter to the bag that was produced \n",
    "filter_bag = bag_dict.filter(title_what_json)  \n",
    "filter_bag.compute()\n",
    "\n",
    "# This can also be done using lambda functions, this will apply the lambda function for all items with the bag\n",
    "lambda_bag = bag_dict.filter(lambda x: x is not None)\n",
    "lambda_bag.compute()\n",
    "\n",
    "new_employee_bag = {}\n",
    "\n",
    "employment_bag = new_employee_bag.pluck('employment') # This will take whatever comes after the key in the dict \n",
    "\n",
    "# Ones this kind of filtering has been performed it can be chained to find even more information \n",
    "employment_bag.map(len) # or something like that \n",
    "\n",
    "# Furthermore you can ofcourse use aggregates on numerical values one they have been computed. \n",
    "# Using dask in this setting will ensure that you'll constantly only be fetching the items thaty ou truly need \n"
   ]
  },
  {
   "cell_type": "markdown",
   "metadata": {},
   "source": [
    "#### Converting unstructured data to a dataframe \n",
    "In a lot of cases unstructured data is converted into a structred dataframe. However very often there are nested functions within a dataframe which need to be unnested first before turning the bag back into a dask dataframe. \n",
    "\n",
    "Steps of action \n",
    "1. Find the information that you would actually like to use. \n",
    "    1. Make a custom function and apply that to the dictionary \n",
    "\n",
    "```\n",
    "def add_number_of_jobs(emplyee_dict):\n",
    "    employee_dict['number_of_previous_jobs'] = len(employee_dict['employmnet'])\n",
    "    return employee_dict\n",
    "\n",
    "dict_bag = dict_bag.map(add_number_of_jobs) \n",
    "```\n",
    "2. In this example we will be removinge elements based where there is a second argument next to self\n",
    "\n",
    "```\n",
    "def delete_dictionary_entry(dictionary, key_to_drop):\n",
    "    del dictionary[key_to_drop]\n",
    "    return dictionary \n",
    "\n",
    "dict_bag = dict_bag.map(delete_dictionary_entry, key_to_drop='employment')\n",
    "```\n",
    "\n",
    "2. EXTRA you can also drop more keys than you want to keep, because why make this fucking easy for yourself? \n",
    "```\n",
    "def filter_dictionary(dictionary, keys_to_keep):\n",
    "    new_dict = {}\n",
    "    for k in keys_to_keep:\n",
    "        new_dict[k] = dictionary[k]\n",
    "    return new_dict \n",
    "\n",
    "dict_bag = dict_bag.map(filter_dictionary, keys_to_kee=['first', 'second'])\n",
    "```\n",
    "\n",
    "3. finally you can convert them to a dataframe using the bags .to_dataframe() function"
   ]
  },
  {
   "cell_type": "markdown",
   "metadata": {},
   "source": [
    "### Using processes and threads \n",
    "\n",
    "As discussed earlier we can use both processes or threads whenever we're running a dask application. They both have their upsides and downsides. Threads share a RAM space however they are hurt by the GIL lock that is in place. While parallel processes don't deal with the GIL lock they have an assigned process which makes it so that copying is slower than in a threads environment. \n",
    "\n",
    "##### Threads \n",
    "- Dask arrays \n",
    "- Dask DataFrames \n",
    "- Delayed pipelines created with dask.delay()\n",
    "\n",
    "##### Porcesses \n",
    "- Dask bags \n",
    "\n",
    "The schedular that you want to you (processes or threads) can be chosen in the scheduler parameter, these can also be set in the dask.compute() function\n",
    "\n",
    "##### Clusters \n",
    "Dask also gives additionl options for the process/threads by importing a LocalCluster \n",
    "\n",
    "```\n",
    "from dask.distributed import LocalCluster\n",
    "\n",
    "# for using processes \n",
    "cluster = LocalCluster( \n",
    "    processes=True,\n",
    "    n_workers=2,\n",
    "    threads_per_worker=2\n",
    ")\n",
    "make two processes and within these processes each process has two treads\n",
    "\n",
    "\n",
    "# for using threads\n",
    "cluster = LocalCluster( \n",
    "    processes=False,\n",
    "    n_workers=2,\n",
    "    threads_per_worker=2\n",
    ")\n",
    "\n",
    "make two individual threads and each threads has two threads \n",
    "```\n",
    "\n",
    "here we have different parameters: \n",
    "- processes, will it be using processes or not \n",
    "- n_workers, How many processes should be created\n",
    "- threads_poer_worked, how many threads can each of these processes use? \n",
    "\n",
    "If the amount of processes and threads is not given dask will decide this for us by looking at our device specifications. \n",
    "\n",
    "To use the Cluster that has been created we need to create a Client. The calculation will pass through the client when the process is being ran. "
   ]
  },
  {
   "cell_type": "code",
   "execution_count": 53,
   "metadata": {},
   "outputs": [
    {
     "data": {
      "text/plain": [
       "(2,)"
      ]
     },
     "execution_count": 53,
     "metadata": {},
     "output_type": "execute_result"
    }
   ],
   "source": [
    "import dask \n",
    "x = dask.delayed(1 + 1)\n",
    "\n",
    "# Defining processes or threads \n",
    "\n",
    "result = x.compute()\n",
    "# threads \n",
    "result = x.compute(scheduler='threads')\n",
    "# processes \n",
    "result = x.compute(scheduler='processes')\n",
    "# within compute \n",
    "dask.compute(x, scheduler='processes')\n",
    "\n"
   ]
  },
  {
   "cell_type": "code",
   "execution_count": 62,
   "metadata": {},
   "outputs": [
    {
     "name": "stdout",
     "output_type": "stream",
     "text": [
      "<Client: 'inproc://192.168.68.123/21459/9' processes=1 threads=2, memory=16.00 GiB>\n",
      "<Client: 'inproc://192.168.68.123/21459/16' processes=1 threads=2, memory=16.00 GiB>\n"
     ]
    },
    {
     "name": "stderr",
     "output_type": "stream",
     "text": [
      "/Users/dylan/Documents/school/big_data/scientist_engineer_assignments/.venv/lib/python3.9/site-packages/distributed/node.py:182: UserWarning: Port 8787 is already in use.\n",
      "Perhaps you already have a cluster running?\n",
      "Hosting the HTTP server on port 64916 instead\n",
      "  warnings.warn(\n",
      "/Users/dylan/Documents/school/big_data/scientist_engineer_assignments/.venv/lib/python3.9/site-packages/distributed/node.py:182: UserWarning: Port 8787 is already in use.\n",
      "Perhaps you already have a cluster running?\n",
      "Hosting the HTTP server on port 64918 instead\n",
      "  warnings.warn(\n"
     ]
    }
   ],
   "source": [
    "from dask.distributed import Client, LocalCluster \n",
    "\n",
    "# creating with LocalCluster\n",
    "cluster = LocalCluster(\n",
    "    processes=False,\n",
    "    n_workers=1,\n",
    "    threads_per_worker=2\n",
    ")\n",
    "\n",
    "client_1 = Client(cluster)\n",
    "print(client_1)\n",
    "\n",
    "# creating with Client \n",
    "client_2 = Client(\n",
    "    processes=False,\n",
    "    n_workers=1, \n",
    "    threads_per_worker=2 \n",
    ")\n",
    "\n",
    "print(client_2)"
   ]
  },
  {
   "cell_type": "markdown",
   "metadata": {},
   "source": [
    "### Dask in machine learning \n",
    "dask_ml is a library which speeds up the machine learning tasks by using multiple threads, processes and other dask mumbo jumbo magic. \n",
    "\n",
    "How we use this is by wrapping the model that we would normally use with the dask_ml wrapper \n",
    "\n",
    "Example \n",
    "\n",
    "```\n",
    "from sklearn.linear_model import SGDRegressor\n",
    "from dask_ml.wrappers import Incremental\n",
    "\n",
    "model = SGDRegressor()\n",
    "\n",
    "dask_model = Incremental(model, scoring='neg_mean_squared_error')\n",
    "\n",
    "dask_model.fit(dask_X, dask_y) # Not lazy\n",
    "\n",
    "```\n",
    "\n",
    "The model is fit by repeatedly making adjustments to the regression line. A dask fit will only loop through the dataset once, while a regressor does it many times. Why? I don't fucking know and also do not want to find out. \n",
    "\n",
    "Calling the fit method won't work to loop through the dataset multiple times, for that reason we must use the partial fit method to get a good fit around the entire dataset. \n",
    "\n",
    "```\n",
    "for i in range(10):\n",
    "    dask_model.partial_fit(dask_X, dask_y)\n",
    "```\n",
    "\n",
    "Then after we've gone through the fitting we can use the model by using the incremental models .predict() method \n",
    "\n",
    "```\n",
    "y_pred = dask_model.predict(dask_X)\n",
    "\n",
    "print(y_pred.comput())\n",
    "```\n"
   ]
  },
  {
   "cell_type": "markdown",
   "metadata": {},
   "source": [
    "### Machine learning with big datasets \n",
    "\n",
    "An important step in regarding making a machine learning model is data preprocessing. And ofcourse Dask has a fucking solution for that as well because fuck meeeee. \n",
    "\n",
    "```\n",
    "import dask.dataframe as dd\n",
    "dask_df = dd.read_parquet(\"dataset_parquet\")\n",
    "```\n",
    "\n",
    "There is a StandardScalar class, which I assume is present in sklearn as well which will make every item a mean of 0 and a deviation of one \n",
    "\n",
    "```\n",
    "from dask_ml.preprocessing import StandardScaler\n",
    "\n",
    "scaler = StandardScaler()\n",
    "\n",
    "scaler.fit(X) # This is not lazy \n",
    "\n",
    "standardized_X = scaler.transform(X) # this is lazy \n",
    "```\n",
    "\n",
    "Splitting shit is done be daskobii as well \n",
    "\n",
    "```\n",
    "from dask_ml.model_selection import train_test_split \n",
    "\n",
    "X_train, X_test, y_train, y_test = train_test_split(X, y, shuffle=True, test_size=0.2)\n",
    "print(X_train)\n",
    "```\n",
    "\n",
    "after the model has been trained \n",
    "\n",
    "```\n",
    "train_score = dask_model.score(X_train, y_train) # this is not lazy\n",
    "\n",
    "test_score = dask_model.score(X_test, y_test)\n"
   ]
  }
 ],
 "metadata": {
  "kernelspec": {
   "display_name": ".venv",
   "language": "python",
   "name": "python3"
  },
  "language_info": {
   "codemirror_mode": {
    "name": "ipython",
    "version": 3
   },
   "file_extension": ".py",
   "mimetype": "text/x-python",
   "name": "python",
   "nbconvert_exporter": "python",
   "pygments_lexer": "ipython3",
   "version": "3.9.6"
  }
 },
 "nbformat": 4,
 "nbformat_minor": 2
}
